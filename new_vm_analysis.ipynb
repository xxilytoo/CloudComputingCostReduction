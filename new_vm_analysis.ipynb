{
 "cells": [
  {
   "cell_type": "code",
   "execution_count": 18,
   "id": "2db1c8f6-2524-44a3-8768-5b929a4b71ea",
   "metadata": {},
   "outputs": [
    {
     "name": "stdout",
     "output_type": "stream",
     "text": [
      "Opening file\n",
      "Closing input file\n",
      "The cost requirement for top 1000 is 1076.9113447295067\n",
      "The program ran for 9.982877016067505 seconds\n"
     ]
    }
   ],
   "source": [
    "import time\n",
    "start = time.time()\n",
    "\n",
    "print('Opening file')\n",
    "input_file = open('vmtable.csv')\n",
    "waste_ranking = []\n",
    "\n",
    "num_of_lines = 2695548\n",
    "while num_of_lines > 0:\n",
    "    myTokens = input_file.readline().split(',')\n",
    "    runTime = (float(myTokens[4]) - float(myTokens[3])) / 3600\n",
    "    if myTokens[9] == \">24\":\n",
    "        myTokens[9] = 32\n",
    "    if myTokens[10] == \">64\\n\":\n",
    "        myTokens[10] = 70 \n",
    "    vm_price = (float(myTokens[9]) * 0.006) + (float(myTokens[10]) * 0.024) - 4.44089e-16\n",
    "    cost_wasted = ((100 - float(myTokens[6])) / 100) * runTime * vm_price\n",
    "    waste_ranking.append(cost_wasted)\n",
    "    num_of_lines -= 1\n",
    "waste_ranking.sort(reverse=True)\n",
    "print('Closing input file')\n",
    "input_file.close()  \n",
    "waste_req = waste_ranking[1000]\n",
    "print('The cost requirement for top 1000 is %s' %waste_req)\n",
    "print('The program ran for %s seconds' %(time.time() - start))"
   ]
  },
  {
   "cell_type": "code",
   "execution_count": 15,
   "id": "de789e26-77db-4948-b09c-4269af91d951",
   "metadata": {},
   "outputs": [
    {
     "ename": "SyntaxError",
     "evalue": "invalid syntax (4101555402.py, line 56)",
     "output_type": "error",
     "traceback": [
      "\u001b[1;36m  Input \u001b[1;32mIn [15]\u001b[1;36m\u001b[0m\n\u001b[1;33m    user_file.close()\u001b[0m\n\u001b[1;37m    ^\u001b[0m\n\u001b[1;31mSyntaxError\u001b[0m\u001b[1;31m:\u001b[0m invalid syntax\n"
     ]
    }
   ],
   "source": [
    "import time\n",
    "start = time.time()\n",
    "\n",
    "print('Opening file')\n",
    "input_file = open('vmtable.csv')\n",
    "\n",
    "user_name = \"1owRC8fAiTkftDDmemUYdXtzzmnuOoKN1keoqCE0SkllaUvtc8yDMIA7uUAEYACL\"\n",
    "user_vms = 0\n",
    "discarded_vms = 0\n",
    "num_of_lines = 2695548\n",
    "#2695548\n",
    "print('Reading file' + '\\n')\n",
    "while num_of_lines > 0:\n",
    "    \n",
    "    currentRow = input_file.readline()\n",
    "    \n",
    "    user_file = open('user_wasteful_list.csv','a')\n",
    "    myTokens = currentRow.split(',')\n",
    "    \n",
    "    #find how long the vm runs\n",
    "    runTime = (float(myTokens[4]) - float(myTokens[3])) / 3600\n",
    "    \n",
    "    #find the price of the vm\n",
    "    if myTokens[9] == \">24\":\n",
    "        myTokens[9] = 32\n",
    "    if myTokens[10] == \">64\\n\":\n",
    "        myTokens[10] = 70 \n",
    "    vm_price = (float(myTokens[9]) * 0.006) + (float(myTokens[10]) * 0.024) - 4.44089e-16\n",
    "        \n",
    "    #find the cost of the vm session\n",
    "    total_cost = runTime * vm_price\n",
    "    \n",
    "    #find the wasted resources\n",
    "    percent_wasted = 100 - float(myTokens[6])\n",
    "    cost_wasted = ((100 - float(myTokens[6])) / 100) * total_cost\n",
    " \n",
    "    #check if its the user.if it is, output the vm\n",
    "    if myTokens[1] != user_name:\n",
    "        if runTime > 0:\n",
    "            #output the new info, [0] user id, [1] vm id, [5] is highest util %, [6] is average %, [7] is 95% util %, [8] is interative category, [9] is core count, [10] is memory gb count\n",
    "            useful_info = [myTokens[0], myTokens[1], myTokens[5], myTokens[6], myTokens[7], myTokens[8], str(runTime), str(total_cost), str(cost_wasted), str(percent_wasted), myTokens[9], myTokens[10]]\n",
    "            separator = ','\n",
    "            writeback_info = separator.join(useful_info)\n",
    "            user_file.write(writeback_info + '\\n')\n",
    "        else:\n",
    "            discarded_vms +=1\n",
    "        user_vms += 1\n",
    "        \n",
    "    #reduce num of lines    \n",
    "    num_of_lines -= 1\n",
    "\n",
    "#close input and output files\n",
    "print('Closing input file')\n",
    "input_file.close()    \n",
    "print('Closing user file, the user had %s machines with %s discarded' %(user_vms,discarded_vms)\n",
    "user_file.close()\n",
    "\n",
    "print('The program ran for %s seconds' %(time.time() - start))"
   ]
  },
  {
   "cell_type": "code",
   "execution_count": 67,
   "id": "a3ba5eab-b939-4b2f-a6fb-482041c5dfc6",
   "metadata": {},
   "outputs": [
    {
     "name": "stdout",
     "output_type": "stream",
     "text": [
      "Opening file\n",
      "Reading file\n",
      "\n",
      "Closing input file\n",
      "Closing wasteful file\n",
      "The program ran for 0.7911198139190674 seconds\n"
     ]
    }
   ],
   "source": [
    "import time\n",
    "start = time.time()\n",
    "\n",
    "print('Opening file')\n",
    "input_file = open('user_wasteful_list.csv')\n",
    "\n",
    "num_of_lines = user_vms - discarded_vms\n",
    "\n",
    "print('Reading file' + '\\n')\n",
    "while num_of_lines > 0:\n",
    "    \n",
    "    currentRow = input_file.readline()\n",
    "    wasteful_file = open('wasteful.csv', 'a')\n",
    "    myTokens = currentRow.split(',')\n",
    "  \n",
    "    #output the wasteful vms based on variables\n",
    "    if float(myTokens[10]) > 2 and float(myTokens[11]) > 4 and float(myTokens[8]) > waste_req:\n",
    "        if float(myTokens[4]) < 78:\n",
    "            savings = (float(myTokens[10])/2 * 0.006) + (float(myTokens[11])/2 * 0.024) * float(myTokens[6])\n",
    "            useful_info = [myTokens[0], myTokens[1], myTokens[2], myTokens[3], myTokens[4], myTokens[5], myTokens[6], myTokens[7], myTokens[8], myTokens[9], str(savings), myTokens[10], myTokens[11]]\n",
    "            writeback_info = separator.join(useful_info)\n",
    "            wasteful_file.write(writeback_info + '\\n')\n",
    "            \n",
    "    #reduce num of lines    \n",
    "    num_of_lines -= 1\n",
    "    \n",
    "    \n",
    "    \n",
    "\n",
    "#close input and output files\n",
    "print('Closing input file')\n",
    "input_file.close()    \n",
    "\n",
    "print('Closing wasteful file')\n",
    "wasteful_file.close()\n",
    "\n",
    "print('The program ran for %s seconds' %(time.time() - start))"
   ]
  },
  {
   "cell_type": "code",
   "execution_count": 23,
   "id": "83d163f7-480d-436f-b683-b2457050b359",
   "metadata": {},
   "outputs": [
    {
     "name": "stdout",
     "output_type": "stream",
     "text": [
      "Closing input file\n",
      "Closing user file\n"
     ]
    }
   ],
   "source": [
    "print('Closing input file')\n",
    "input_file.close()    \n",
    "\n",
    "\n",
    "print('Closing user file')\n",
    "user_file.close()"
   ]
  },
  {
   "cell_type": "code",
   "execution_count": 1,
   "id": "61262b84-a2e5-42db-8af2-8c03f363701b",
   "metadata": {},
   "outputs": [
    {
     "name": "stdout",
     "output_type": "stream",
     "text": [
      "Opening file\n",
      "Reading file\n",
      "\n",
      "Closing input file\n",
      "Closing user file\n"
     ]
    }
   ],
   "source": [
    "import time\n",
    "start = time.time()\n",
    "\n",
    "print('Opening file')\n",
    "input_file = open('vmtable.csv')\n",
    "\n",
    "num_of_lines = 10\n",
    "#2695548\n",
    "print('Reading file' + '\\n')\n",
    "while num_of_lines > 0:\n",
    "    \n",
    "    currentRow = input_file.readline()\n",
    "    \n",
    "    user_file = open('example.csv','a')\n",
    "    user_file.write(currentRow)\n",
    "    \n",
    "\n",
    "    #reduce num of lines    \n",
    "    num_of_lines -= 1\n",
    "\n",
    "#close input and output files\n",
    "print('Closing input file')\n",
    "input_file.close()  \n",
    "print('Closing user file')\n",
    "user_file.close()"
   ]
  },
  {
   "cell_type": "code",
   "execution_count": 20,
   "id": "ff19f7ca-7af1-4658-a346-2669fb822f75",
   "metadata": {},
   "outputs": [
    {
     "name": "stdout",
     "output_type": "stream",
     "text": [
      "Opening file\n",
      "Reading file\n",
      "\n",
      "Closing input file\n",
      "Closing wasteful file\n",
      "The program ran for 5.847721576690674 seconds\n"
     ]
    }
   ],
   "source": [
    "import time\n",
    "start = time.time()\n",
    "\n",
    "print('Opening file')\n",
    "input_file = open('user_wasteful_list.csv')\n",
    "\n",
    "num_of_lines = 7294\n",
    "\n",
    "print('Reading file' + '\\n')\n",
    "while num_of_lines > 0:\n",
    "    \n",
    "    currentRow = input_file.readline()\n",
    "    waasteful_file = open('newfast.csv', 'a')\n",
    "    myTokens = currentRow.split(',')\n",
    "    coreHours = float(myTokens[6]) * float(myTokens[10])\n",
    "    separator = ','\n",
    "    useful_info = [myTokens[0], myTokens[1], myTokens[2], myTokens[3], myTokens[4], myTokens[5], myTokens[6], myTokens[7], myTokens[8], myTokens[9], str(coreHours), myTokens[10], myTokens[11]]\n",
    "    writeback_info = separator.join(useful_info)\n",
    "    waasteful_file.write(writeback_info + '\\n')\n",
    "            \n",
    "    #reduce num of lines    \n",
    "    num_of_lines -= 1\n",
    "    \n",
    "    \n",
    "    \n",
    "\n",
    "#close input and output files\n",
    "print('Closing input file')\n",
    "input_file.close()    \n",
    "\n",
    "print('Closing wasteful file')\n",
    "waasteful_file.close()\n",
    "\n",
    "print('The program ran for %s seconds' %(time.time() - start))"
   ]
  },
  {
   "cell_type": "code",
   "execution_count": null,
   "id": "e56b2f54-97b6-48fb-b62a-b91a20e166b2",
   "metadata": {},
   "outputs": [],
   "source": []
  }
 ],
 "metadata": {
  "kernelspec": {
   "display_name": "Python 3 (ipykernel)",
   "language": "python",
   "name": "python3"
  },
  "language_info": {
   "codemirror_mode": {
    "name": "ipython",
    "version": 3
   },
   "file_extension": ".py",
   "mimetype": "text/x-python",
   "name": "python",
   "nbconvert_exporter": "python",
   "pygments_lexer": "ipython3",
   "version": "3.9.12"
  }
 },
 "nbformat": 4,
 "nbformat_minor": 5
}
